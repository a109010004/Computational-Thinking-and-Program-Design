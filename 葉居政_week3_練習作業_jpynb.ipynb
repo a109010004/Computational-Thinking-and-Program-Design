{
  "nbformat": 4,
  "nbformat_minor": 0,
  "metadata": {
    "colab": {
      "name": "葉居政-week3-練習作業.jpynb",
      "provenance": [],
      "authorship_tag": "ABX9TyMzGg8vp4m2n0zJChmIP+N2",
      "include_colab_link": true
    },
    "kernelspec": {
      "name": "python3",
      "display_name": "Python 3"
    }
  },
  "cells": [
    {
      "cell_type": "markdown",
      "metadata": {
        "id": "view-in-github",
        "colab_type": "text"
      },
      "source": [
        "<a href=\"https://colab.research.google.com/github/a109010004/Computational-Thinking-and-Program-Design/blob/main/%E8%91%89%E5%B1%85%E6%94%BF_week3_%E7%B7%B4%E7%BF%92%E4%BD%9C%E6%A5%AD_jpynb.ipynb\" target=\"_parent\"><img src=\"https://colab.research.google.com/assets/colab-badge.svg\" alt=\"Open In Colab\"/></a>"
      ]
    },
    {
      "cell_type": "code",
      "metadata": {
        "colab": {
          "base_uri": "https://localhost:8080/"
        },
        "id": "YbqLntaNfw1l",
        "outputId": "ff64984d-595c-417f-c692-ddf9b8d6595c"
      },
      "source": [
        "print(1+1)"
      ],
      "execution_count": 3,
      "outputs": [
        {
          "output_type": "stream",
          "text": [
            "2\n"
          ],
          "name": "stdout"
        }
      ]
    },
    {
      "cell_type": "code",
      "metadata": {
        "colab": {
          "base_uri": "https://localhost:8080/"
        },
        "id": "6lWKQOYWiURN",
        "outputId": "4eea4483-848d-4fe1-961d-8ebca4738ace"
      },
      "source": [
        "print(\"hello worid\")"
      ],
      "execution_count": 5,
      "outputs": [
        {
          "output_type": "stream",
          "text": [
            "hello worid\n"
          ],
          "name": "stdout"
        }
      ]
    },
    {
      "cell_type": "code",
      "metadata": {
        "id": "kUH3Kh0qib10"
      },
      "source": [
        ""
      ],
      "execution_count": null,
      "outputs": []
    }
  ]
}
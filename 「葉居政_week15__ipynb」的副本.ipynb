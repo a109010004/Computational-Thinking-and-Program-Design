{
  "nbformat": 4,
  "nbformat_minor": 0,
  "metadata": {
    "colab": {
      "name": "「王駿凱_week15_.ipynb」的副本",
      "provenance": [],
      "collapsed_sections": [],
      "include_colab_link": true
    },
    "kernelspec": {
      "name": "python3",
      "display_name": "Python 3"
    },
    "language_info": {
      "name": "python"
    }
  },
  "cells": [
    {
      "cell_type": "markdown",
      "metadata": {
        "id": "view-in-github",
        "colab_type": "text"
      },
      "source": [
        "<a href=\"https://colab.research.google.com/github/a109010004/Computational-Thinking-and-Program-Design/blob/main/%E3%80%8C%E8%91%89%E5%B1%85%E6%94%BF_week15__ipynb%E3%80%8D%E7%9A%84%E5%89%AF%E6%9C%AC.ipynb\" target=\"_parent\"><img src=\"https://colab.research.google.com/assets/colab-badge.svg\" alt=\"Open In Colab\"/></a>"
      ]
    },
    {
      "cell_type": "code",
      "metadata": {
        "colab": {
          "base_uri": "https://localhost:8080/"
        },
        "id": "sozfbROVsAh0",
        "outputId": "3188d369-a611-466f-8393-31addf87a856"
      },
      "source": [
        "yourchoice = int(input(\"請出拳 [0] 蟲 [1] 雞 [2] 老虎 [3] 棒子\"))\n",
        "print(\"你出的拳:\", yourchoice)\n",
        "import random\n",
        "computerchoice = random.randint(0, 3)\n",
        "print(\"電腦出拳為\", computerchoice)\n",
        "if yourchoice == (computerchoice + 1) % 4 :\n",
        "    print(\"我贏了\")\n",
        "elif computerchoice == (yourchoice + 1) % 4 :\n",
        "    print(\"電腦贏了\")\n",
        "else:\n",
        "    print(\"平手\")"
      ],
      "execution_count": null,
      "outputs": [
        {
          "output_type": "stream",
          "text": [
            "請出拳 [0] 蟲 [1] 雞 [2] 老虎 [3] 棒子2\n",
            "你出的拳: 2\n",
            "電腦出拳為 0\n",
            "平手\n"
          ],
          "name": "stdout"
        }
      ]
    },
    {
      "cell_type": "code",
      "metadata": {
        "id": "DMOYLC0it8f0"
      },
      "source": [
        ""
      ],
      "execution_count": null,
      "outputs": []
    }
  ]
}